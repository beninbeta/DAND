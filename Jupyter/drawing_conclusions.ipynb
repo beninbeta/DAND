{
 "cells": [
  {
   "cell_type": "markdown",
   "metadata": {
    "collapsed": true
   },
   "source": [
    "# Drawing Conclusions\n",
    "Use the space below to address questions on datasets `clean_08.csv` and `clean_18.csv`. You should've created these data files in the previous section: *Fixing Data Types Pt 3*."
   ]
  },
  {
   "cell_type": "code",
   "execution_count": 2,
   "metadata": {},
   "outputs": [
    {
     "data": {
      "text/html": [
       "<div>\n",
       "<style scoped>\n",
       "    .dataframe tbody tr th:only-of-type {\n",
       "        vertical-align: middle;\n",
       "    }\n",
       "\n",
       "    .dataframe tbody tr th {\n",
       "        vertical-align: top;\n",
       "    }\n",
       "\n",
       "    .dataframe thead th {\n",
       "        text-align: right;\n",
       "    }\n",
       "</style>\n",
       "<table border=\"1\" class=\"dataframe\">\n",
       "  <thead>\n",
       "    <tr style=\"text-align: right;\">\n",
       "      <th></th>\n",
       "      <th>year</th>\n",
       "      <th>model</th>\n",
       "      <th>displ</th>\n",
       "      <th>cyl</th>\n",
       "      <th>trans</th>\n",
       "      <th>drive</th>\n",
       "      <th>fuel</th>\n",
       "      <th>veh_class</th>\n",
       "      <th>air_pollution_score</th>\n",
       "      <th>city_mpg</th>\n",
       "      <th>hwy_mpg</th>\n",
       "      <th>cmb_mpg</th>\n",
       "      <th>greenhouse_gas_score</th>\n",
       "      <th>smartway</th>\n",
       "    </tr>\n",
       "  </thead>\n",
       "  <tbody>\n",
       "    <tr>\n",
       "      <th>827</th>\n",
       "      <td>2018</td>\n",
       "      <td>TOYOTA Sequoia FFV</td>\n",
       "      <td>5.7</td>\n",
       "      <td>8</td>\n",
       "      <td>SemiAuto-6</td>\n",
       "      <td>4WD</td>\n",
       "      <td>Gas</td>\n",
       "      <td>standard SUV</td>\n",
       "      <td>5.0</td>\n",
       "      <td>13.0</td>\n",
       "      <td>17.0</td>\n",
       "      <td>14.0</td>\n",
       "      <td>1</td>\n",
       "      <td>No</td>\n",
       "    </tr>\n",
       "    <tr>\n",
       "      <th>828</th>\n",
       "      <td>2018</td>\n",
       "      <td>TOYOTA Tundra FFV</td>\n",
       "      <td>5.7</td>\n",
       "      <td>8</td>\n",
       "      <td>SemiAuto-6</td>\n",
       "      <td>4WD</td>\n",
       "      <td>Gas</td>\n",
       "      <td>pickup</td>\n",
       "      <td>5.0</td>\n",
       "      <td>13.0</td>\n",
       "      <td>17.0</td>\n",
       "      <td>15.0</td>\n",
       "      <td>2</td>\n",
       "      <td>No</td>\n",
       "    </tr>\n",
       "    <tr>\n",
       "      <th>829</th>\n",
       "      <td>2018</td>\n",
       "      <td>VOLVO S90</td>\n",
       "      <td>2.0</td>\n",
       "      <td>4</td>\n",
       "      <td>SemiAuto-8</td>\n",
       "      <td>4WD</td>\n",
       "      <td>Electricity</td>\n",
       "      <td>midsize car</td>\n",
       "      <td>7.0</td>\n",
       "      <td>70.0</td>\n",
       "      <td>72.0</td>\n",
       "      <td>71.0</td>\n",
       "      <td>10</td>\n",
       "      <td>Elite</td>\n",
       "    </tr>\n",
       "    <tr>\n",
       "      <th>830</th>\n",
       "      <td>2018</td>\n",
       "      <td>VOLVO XC 60</td>\n",
       "      <td>2.0</td>\n",
       "      <td>4</td>\n",
       "      <td>SemiAuto-8</td>\n",
       "      <td>4WD</td>\n",
       "      <td>Electricity</td>\n",
       "      <td>small SUV</td>\n",
       "      <td>7.0</td>\n",
       "      <td>60.0</td>\n",
       "      <td>58.0</td>\n",
       "      <td>59.0</td>\n",
       "      <td>10</td>\n",
       "      <td>Elite</td>\n",
       "    </tr>\n",
       "    <tr>\n",
       "      <th>831</th>\n",
       "      <td>2018</td>\n",
       "      <td>VOLVO XC 90</td>\n",
       "      <td>2.0</td>\n",
       "      <td>4</td>\n",
       "      <td>SemiAuto-8</td>\n",
       "      <td>4WD</td>\n",
       "      <td>Electricity</td>\n",
       "      <td>standard SUV</td>\n",
       "      <td>7.0</td>\n",
       "      <td>63.0</td>\n",
       "      <td>61.0</td>\n",
       "      <td>62.0</td>\n",
       "      <td>10</td>\n",
       "      <td>Elite</td>\n",
       "    </tr>\n",
       "  </tbody>\n",
       "</table>\n",
       "</div>"
      ],
      "text/plain": [
       "     year               model  displ  cyl       trans drive         fuel  \\\n",
       "827  2018  TOYOTA Sequoia FFV    5.7    8  SemiAuto-6   4WD          Gas   \n",
       "828  2018   TOYOTA Tundra FFV    5.7    8  SemiAuto-6   4WD          Gas   \n",
       "829  2018           VOLVO S90    2.0    4  SemiAuto-8   4WD  Electricity   \n",
       "830  2018         VOLVO XC 60    2.0    4  SemiAuto-8   4WD  Electricity   \n",
       "831  2018         VOLVO XC 90    2.0    4  SemiAuto-8   4WD  Electricity   \n",
       "\n",
       "        veh_class  air_pollution_score  city_mpg  hwy_mpg  cmb_mpg  \\\n",
       "827  standard SUV                  5.0      13.0     17.0     14.0   \n",
       "828        pickup                  5.0      13.0     17.0     15.0   \n",
       "829   midsize car                  7.0      70.0     72.0     71.0   \n",
       "830     small SUV                  7.0      60.0     58.0     59.0   \n",
       "831  standard SUV                  7.0      63.0     61.0     62.0   \n",
       "\n",
       "     greenhouse_gas_score smartway  \n",
       "827                     1       No  \n",
       "828                     2       No  \n",
       "829                    10    Elite  \n",
       "830                    10    Elite  \n",
       "831                    10    Elite  "
      ]
     },
     "execution_count": 2,
     "metadata": {},
     "output_type": "execute_result"
    }
   ],
   "source": [
    "# load datasets\n",
    "%matplotlib inline\n",
    "import matplotlib\n",
    "import numpy as np\n",
    "import matplotlib.pyplot as plt\n",
    "import pandas as pd\n",
    "df_08 = pd.read_csv('clean_08.csv')\n",
    "df_18 = pd.read_csv('clean_18.csv')\n",
    "df_08.insert(0,'year','2008')\n",
    "df_18.insert(0, 'year', '2018')\n",
    "all_data = df_08.append(df_18)\n",
    "all_data.tail()"
   ]
  },
  {
   "cell_type": "markdown",
   "metadata": {},
   "source": [
    "### Q1: Are more unique models using alternative sources of fuel? By how much?"
   ]
  },
  {
   "cell_type": "code",
   "execution_count": 3,
   "metadata": {},
   "outputs": [],
   "source": [
    "alt_fuel08 = df_08.query(\"fuel != 'Gasoline' and fuel != 'gas'\")\n",
    "alt_fuel18 = df_18.query(\"fuel != 'Gasoline' and fuel != 'gas'\")\n",
    "uniq08 = alt_fuel08['model'].nunique()\n",
    "uniq18 = alt_fuel18['model'].nunique()\n"
   ]
  },
  {
   "cell_type": "code",
   "execution_count": 4,
   "metadata": {},
   "outputs": [
    {
     "data": {
      "text/plain": [
       "<matplotlib.axes._subplots.AxesSubplot at 0x7f383f1e7b00>"
      ]
     },
     "execution_count": 4,
     "metadata": {},
     "output_type": "execute_result"
    },
    {
     "data": {
      "image/png": "[encoded data removed]",
      "text/plain": [
       "<matplotlib.figure.Figure at 0x7f383f214630>"
      ]
     },
     "metadata": {
      "needs_background": "light"
     },
     "output_type": "display_data"
    }
   ],
   "source": [
    "all_alt = pd.DataFrame({'year':['2008','2018'], 'alt_fuel':[uniq08,uniq18]})\n",
    "all_alt.plot(kind='bar', x=\"year\", y='alt_fuel')"
   ]
  },
  {
   "cell_type": "markdown",
   "metadata": {},
   "source": [
    "### Q2: How much have vehicle classes improved in fuel economy?  "
   ]
  },
  {
   "cell_type": "code",
   "execution_count": 5,
   "metadata": {},
   "outputs": [],
   "source": [
    "dropsp = all_data.drop(all_data[all_data.veh_class == 'special purpose'].index)\n"
   ]
  },
  {
   "cell_type": "code",
   "execution_count": 6,
   "metadata": {},
   "outputs": [],
   "source": [
    "dropvan = dropsp.drop(dropsp[dropsp.veh_class == 'van'].index)"
   ]
  },
  {
   "cell_type": "code",
   "execution_count": 7,
   "metadata": {},
   "outputs": [
    {
     "name": "stderr",
     "output_type": "stream",
     "text": [
      "/opt/conda/lib/python3.6/site-packages/pandas/core/generic.py:5890: SettingWithCopyWarning: \n",
      "A value is trying to be set on a copy of a slice from a DataFrame\n",
      "\n",
      "See the caveats in the documentation: http://pandas.pydata.org/pandas-docs/stable/indexing.html#indexing-view-versus-copy\n",
      "  self._update_inplace(new_data)\n"
     ]
    }
   ],
   "source": [
    "dropvan['veh_class'].replace(['small SUV','standard SUV'],'SUV',inplace=True)"
   ]
  },
  {
   "cell_type": "code",
   "execution_count": 8,
   "metadata": {},
   "outputs": [
    {
     "data": {
      "text/html": [
       "<div>\n",
       "<style scoped>\n",
       "    .dataframe tbody tr th:only-of-type {\n",
       "        vertical-align: middle;\n",
       "    }\n",
       "\n",
       "    .dataframe tbody tr th {\n",
       "        vertical-align: top;\n",
       "    }\n",
       "\n",
       "    .dataframe thead th {\n",
       "        text-align: right;\n",
       "    }\n",
       "</style>\n",
       "<table border=\"1\" class=\"dataframe\">\n",
       "  <thead>\n",
       "    <tr style=\"text-align: right;\">\n",
       "      <th></th>\n",
       "      <th>year</th>\n",
       "      <th>model</th>\n",
       "      <th>displ</th>\n",
       "      <th>cyl</th>\n",
       "      <th>trans</th>\n",
       "      <th>drive</th>\n",
       "      <th>fuel</th>\n",
       "      <th>air_pollution_score</th>\n",
       "      <th>city_mpg</th>\n",
       "      <th>hwy_mpg</th>\n",
       "      <th>cmb_mpg</th>\n",
       "      <th>greenhouse_gas_score</th>\n",
       "      <th>smartway</th>\n",
       "    </tr>\n",
       "    <tr>\n",
       "      <th>veh_class</th>\n",
       "      <th></th>\n",
       "      <th></th>\n",
       "      <th></th>\n",
       "      <th></th>\n",
       "      <th></th>\n",
       "      <th></th>\n",
       "      <th></th>\n",
       "      <th></th>\n",
       "      <th></th>\n",
       "      <th></th>\n",
       "      <th></th>\n",
       "      <th></th>\n",
       "      <th></th>\n",
       "    </tr>\n",
       "  </thead>\n",
       "  <tbody>\n",
       "    <tr>\n",
       "      <th>SUV</th>\n",
       "      <td>462</td>\n",
       "      <td>462</td>\n",
       "      <td>462</td>\n",
       "      <td>462</td>\n",
       "      <td>462</td>\n",
       "      <td>462</td>\n",
       "      <td>462</td>\n",
       "      <td>462</td>\n",
       "      <td>462</td>\n",
       "      <td>462</td>\n",
       "      <td>462</td>\n",
       "      <td>462</td>\n",
       "      <td>462</td>\n",
       "    </tr>\n",
       "    <tr>\n",
       "      <th>large car</th>\n",
       "      <td>143</td>\n",
       "      <td>143</td>\n",
       "      <td>143</td>\n",
       "      <td>143</td>\n",
       "      <td>143</td>\n",
       "      <td>143</td>\n",
       "      <td>143</td>\n",
       "      <td>143</td>\n",
       "      <td>143</td>\n",
       "      <td>143</td>\n",
       "      <td>143</td>\n",
       "      <td>143</td>\n",
       "      <td>143</td>\n",
       "    </tr>\n",
       "    <tr>\n",
       "      <th>midsize car</th>\n",
       "      <td>273</td>\n",
       "      <td>273</td>\n",
       "      <td>273</td>\n",
       "      <td>273</td>\n",
       "      <td>273</td>\n",
       "      <td>273</td>\n",
       "      <td>273</td>\n",
       "      <td>273</td>\n",
       "      <td>273</td>\n",
       "      <td>273</td>\n",
       "      <td>273</td>\n",
       "      <td>273</td>\n",
       "      <td>273</td>\n",
       "    </tr>\n",
       "    <tr>\n",
       "      <th>minivan</th>\n",
       "      <td>22</td>\n",
       "      <td>22</td>\n",
       "      <td>22</td>\n",
       "      <td>22</td>\n",
       "      <td>22</td>\n",
       "      <td>22</td>\n",
       "      <td>22</td>\n",
       "      <td>22</td>\n",
       "      <td>22</td>\n",
       "      <td>22</td>\n",
       "      <td>22</td>\n",
       "      <td>22</td>\n",
       "      <td>22</td>\n",
       "    </tr>\n",
       "    <tr>\n",
       "      <th>pickup</th>\n",
       "      <td>154</td>\n",
       "      <td>154</td>\n",
       "      <td>154</td>\n",
       "      <td>154</td>\n",
       "      <td>154</td>\n",
       "      <td>154</td>\n",
       "      <td>154</td>\n",
       "      <td>154</td>\n",
       "      <td>154</td>\n",
       "      <td>154</td>\n",
       "      <td>154</td>\n",
       "      <td>154</td>\n",
       "      <td>154</td>\n",
       "    </tr>\n",
       "    <tr>\n",
       "      <th>small car</th>\n",
       "      <td>613</td>\n",
       "      <td>613</td>\n",
       "      <td>613</td>\n",
       "      <td>613</td>\n",
       "      <td>613</td>\n",
       "      <td>613</td>\n",
       "      <td>613</td>\n",
       "      <td>613</td>\n",
       "      <td>613</td>\n",
       "      <td>613</td>\n",
       "      <td>613</td>\n",
       "      <td>613</td>\n",
       "      <td>613</td>\n",
       "    </tr>\n",
       "    <tr>\n",
       "      <th>station wagon</th>\n",
       "      <td>94</td>\n",
       "      <td>94</td>\n",
       "      <td>94</td>\n",
       "      <td>94</td>\n",
       "      <td>94</td>\n",
       "      <td>94</td>\n",
       "      <td>94</td>\n",
       "      <td>94</td>\n",
       "      <td>94</td>\n",
       "      <td>94</td>\n",
       "      <td>94</td>\n",
       "      <td>94</td>\n",
       "      <td>94</td>\n",
       "    </tr>\n",
       "  </tbody>\n",
       "</table>\n",
       "</div>"
      ],
      "text/plain": [
       "               year  model  displ  cyl  trans  drive  fuel  \\\n",
       "veh_class                                                    \n",
       "SUV             462    462    462  462    462    462   462   \n",
       "large car       143    143    143  143    143    143   143   \n",
       "midsize car     273    273    273  273    273    273   273   \n",
       "minivan          22     22     22   22     22     22    22   \n",
       "pickup          154    154    154  154    154    154   154   \n",
       "small car       613    613    613  613    613    613   613   \n",
       "station wagon    94     94     94   94     94     94    94   \n",
       "\n",
       "               air_pollution_score  city_mpg  hwy_mpg  cmb_mpg  \\\n",
       "veh_class                                                        \n",
       "SUV                            462       462      462      462   \n",
       "large car                      143       143      143      143   \n",
       "midsize car                    273       273      273      273   \n",
       "minivan                         22        22       22       22   \n",
       "pickup                         154       154      154      154   \n",
       "small car                      613       613      613      613   \n",
       "station wagon                   94        94       94       94   \n",
       "\n",
       "               greenhouse_gas_score  smartway  \n",
       "veh_class                                      \n",
       "SUV                             462       462  \n",
       "large car                       143       143  \n",
       "midsize car                     273       273  \n",
       "minivan                          22        22  \n",
       "pickup                          154       154  \n",
       "small car                       613       613  \n",
       "station wagon                    94        94  "
      ]
     },
     "execution_count": 8,
     "metadata": {},
     "output_type": "execute_result"
    }
   ],
   "source": [
    "clean_class = dropvan\n",
    "clean_class.groupby('veh_class').count()"
   ]
  },
  {
   "cell_type": "code",
   "execution_count": 9,
   "metadata": {},
   "outputs": [
    {
     "data": {
      "text/plain": [
       "year  veh_class    \n",
       "2008  SUV              275\n",
       "      large car         55\n",
       "      midsize car      137\n",
       "      minivan           17\n",
       "      pickup            83\n",
       "      small car        331\n",
       "      station wagon     60\n",
       "2018  SUV              187\n",
       "      large car         88\n",
       "      midsize car      136\n",
       "      minivan            5\n",
       "      pickup            71\n",
       "      small car        282\n",
       "      station wagon     34\n",
       "Name: cmb_mpg, dtype: int64"
      ]
     },
     "execution_count": 9,
     "metadata": {},
     "output_type": "execute_result"
    }
   ],
   "source": [
    "class_counts = clean_class.groupby(['year','veh_class']).count()['cmb_mpg']\n",
    "class_counts"
   ]
  },
  {
   "cell_type": "code",
   "execution_count": 10,
   "metadata": {},
   "outputs": [
    {
     "data": {
      "text/plain": [
       "year  veh_class    \n",
       "2008  SUV              18.436364\n",
       "      large car        18.509091\n",
       "      midsize car      21.562044\n",
       "      minivan          19.117647\n",
       "      pickup           16.277108\n",
       "      small car        21.117825\n",
       "      station wagon    22.366667\n",
       "2018  SUV              21.443850\n",
       "      large car        23.409091\n",
       "      midsize car      27.808824\n",
       "      minivan          20.800000\n",
       "      pickup           18.661972\n",
       "      small car        25.503546\n",
       "      station wagon    27.529412\n",
       "Name: cmb_mpg, dtype: float64"
      ]
     },
     "execution_count": 10,
     "metadata": {},
     "output_type": "execute_result"
    }
   ],
   "source": [
    "means= clean_class.groupby(['year','veh_class']).mean()['cmb_mpg']\n",
    "means"
   ]
  },
  {
   "cell_type": "code",
   "execution_count": 11,
   "metadata": {},
   "outputs": [
    {
     "name": "stdout",
     "output_type": "stream",
     "text": [
      "08= veh_class\n",
      "SUV              18.436364\n",
      "large car        18.509091\n",
      "midsize car      21.562044\n",
      "minivan          19.117647\n",
      "pickup           16.277108\n",
      "small car        21.117825\n",
      "station wagon    22.366667\n",
      "Name: cmb_mpg, dtype: float64 18 = veh_class\n",
      "SUV              21.443850\n",
      "large car        23.409091\n",
      "midsize car      27.808824\n",
      "minivan          20.800000\n",
      "pickup           18.661972\n",
      "small car        25.503546\n",
      "station wagon    27.529412\n",
      "Name: cmb_mpg, dtype: float64\n"
     ]
    }
   ],
   "source": [
    "\n",
    "proportions08 = means['2008']\n",
    "proportions18 = means['2018']\n",
    "print(f\"08= {proportions08} 18 = {proportions18}\")"
   ]
  },
  {
   "cell_type": "code",
   "execution_count": 12,
   "metadata": {},
   "outputs": [],
   "source": [
    "ind = np.arange(len(proportions08))\n",
    "width = .40"
   ]
  },
  {
   "cell_type": "code",
   "execution_count": 13,
   "metadata": {},
   "outputs": [
    {
     "data": {
      "image/png": "[encoded data removed]",
      "text/plain": [
       "<matplotlib.figure.Figure at 0x7f383ce869b0>"
      ]
     },
     "metadata": {
      "needs_background": "light"
     },
     "output_type": "display_data"
    }
   ],
   "source": [
    "classes08 = plt.bar(ind, proportions08, width, color='r', alpha=.7, label=\"2008 Car classes\")\n",
    "classes18 = plt.bar(ind+width, proportions18, width, color='b', alpha=.7, label='2018 Car Classes')\n",
    "plt.ylabel(\"Comined MPG\")\n",
    "plt.xlabel(\"Class\")\n",
    "plt.title(\"MPG of Classes\")\n",
    "locations = ind + width /2\n",
    "labels=['SUV','Large Car', 'Mid Car',\"minivan\",'pickup','small car','wagon']\n",
    "plt.xticks(locations,labels)\n",
    "plt.legend();"
   ]
  },
  {
   "cell_type": "code",
   "execution_count": 14,
   "metadata": {},
   "outputs": [
    {
     "data": {
      "text/plain": [
       "veh_class\n",
       "SUV              3.007487\n",
       "large car        4.900000\n",
       "midsize car      6.246780\n",
       "minivan          1.682353\n",
       "pickup           2.384863\n",
       "small car        4.385721\n",
       "station wagon    5.162745\n",
       "Name: cmb_mpg, dtype: float64"
      ]
     },
     "execution_count": 14,
     "metadata": {},
     "output_type": "execute_result"
    }
   ],
   "source": [
    "mpg_change = means['2018'] - means['2008']\n",
    "mpg_change"
   ]
  },
  {
   "cell_type": "markdown",
   "metadata": {},
   "source": [
    "### Q3: What are the characteristics of SmartWay vehicles? Have they changed over time?"
   ]
  },
  {
   "cell_type": "code",
   "execution_count": 15,
   "metadata": {},
   "outputs": [
    {
     "data": {
      "text/html": [
       "<div>\n",
       "<style scoped>\n",
       "    .dataframe tbody tr th:only-of-type {\n",
       "        vertical-align: middle;\n",
       "    }\n",
       "\n",
       "    .dataframe tbody tr th {\n",
       "        vertical-align: top;\n",
       "    }\n",
       "\n",
       "    .dataframe thead tr th {\n",
       "        text-align: left;\n",
       "    }\n",
       "\n",
       "    .dataframe thead tr:last-of-type th {\n",
       "        text-align: right;\n",
       "    }\n",
       "</style>\n",
       "<table border=\"1\" class=\"dataframe\">\n",
       "  <thead>\n",
       "    <tr>\n",
       "      <th></th>\n",
       "      <th></th>\n",
       "      <th colspan=\"8\" halign=\"left\">greenhouse_gas_score</th>\n",
       "      <th colspan=\"8\" halign=\"left\">cmb_mpg</th>\n",
       "    </tr>\n",
       "    <tr>\n",
       "      <th></th>\n",
       "      <th></th>\n",
       "      <th>count</th>\n",
       "      <th>mean</th>\n",
       "      <th>std</th>\n",
       "      <th>min</th>\n",
       "      <th>25%</th>\n",
       "      <th>50%</th>\n",
       "      <th>75%</th>\n",
       "      <th>max</th>\n",
       "      <th>count</th>\n",
       "      <th>mean</th>\n",
       "      <th>std</th>\n",
       "      <th>min</th>\n",
       "      <th>25%</th>\n",
       "      <th>50%</th>\n",
       "      <th>75%</th>\n",
       "      <th>max</th>\n",
       "    </tr>\n",
       "    <tr>\n",
       "      <th>year</th>\n",
       "      <th>smartway</th>\n",
       "      <th></th>\n",
       "      <th></th>\n",
       "      <th></th>\n",
       "      <th></th>\n",
       "      <th></th>\n",
       "      <th></th>\n",
       "      <th></th>\n",
       "      <th></th>\n",
       "      <th></th>\n",
       "      <th></th>\n",
       "      <th></th>\n",
       "      <th></th>\n",
       "      <th></th>\n",
       "      <th></th>\n",
       "      <th></th>\n",
       "      <th></th>\n",
       "    </tr>\n",
       "  </thead>\n",
       "  <tbody>\n",
       "    <tr>\n",
       "      <th rowspan=\"2\" valign=\"top\">2008</th>\n",
       "      <th>no</th>\n",
       "      <td>607.0</td>\n",
       "      <td>4.149918</td>\n",
       "      <td>1.629634</td>\n",
       "      <td>0.0</td>\n",
       "      <td>3.0</td>\n",
       "      <td>5.0</td>\n",
       "      <td>5.0</td>\n",
       "      <td>7.0</td>\n",
       "      <td>607.0</td>\n",
       "      <td>17.316310</td>\n",
       "      <td>2.766868</td>\n",
       "      <td>10.0</td>\n",
       "      <td>15.0</td>\n",
       "      <td>18.0</td>\n",
       "      <td>19.0</td>\n",
       "      <td>23.0</td>\n",
       "    </tr>\n",
       "    <tr>\n",
       "      <th>yes</th>\n",
       "      <td>380.0</td>\n",
       "      <td>6.868421</td>\n",
       "      <td>0.827338</td>\n",
       "      <td>6.0</td>\n",
       "      <td>6.0</td>\n",
       "      <td>7.0</td>\n",
       "      <td>7.0</td>\n",
       "      <td>10.0</td>\n",
       "      <td>380.0</td>\n",
       "      <td>23.736842</td>\n",
       "      <td>3.060379</td>\n",
       "      <td>20.0</td>\n",
       "      <td>22.0</td>\n",
       "      <td>23.0</td>\n",
       "      <td>25.0</td>\n",
       "      <td>46.0</td>\n",
       "    </tr>\n",
       "    <tr>\n",
       "      <th rowspan=\"3\" valign=\"top\">2018</th>\n",
       "      <th>Elite</th>\n",
       "      <td>17.0</td>\n",
       "      <td>10.000000</td>\n",
       "      <td>0.000000</td>\n",
       "      <td>10.0</td>\n",
       "      <td>10.0</td>\n",
       "      <td>10.0</td>\n",
       "      <td>10.0</td>\n",
       "      <td>10.0</td>\n",
       "      <td>17.0</td>\n",
       "      <td>53.000000</td>\n",
       "      <td>24.065016</td>\n",
       "      <td>26.0</td>\n",
       "      <td>29.0</td>\n",
       "      <td>46.0</td>\n",
       "      <td>67.0</td>\n",
       "      <td>106.0</td>\n",
       "    </tr>\n",
       "    <tr>\n",
       "      <th>No</th>\n",
       "      <td>724.0</td>\n",
       "      <td>4.276243</td>\n",
       "      <td>1.256106</td>\n",
       "      <td>1.0</td>\n",
       "      <td>3.0</td>\n",
       "      <td>4.0</td>\n",
       "      <td>5.0</td>\n",
       "      <td>10.0</td>\n",
       "      <td>724.0</td>\n",
       "      <td>22.041436</td>\n",
       "      <td>4.424682</td>\n",
       "      <td>10.0</td>\n",
       "      <td>19.0</td>\n",
       "      <td>22.0</td>\n",
       "      <td>25.0</td>\n",
       "      <td>60.0</td>\n",
       "    </tr>\n",
       "    <tr>\n",
       "      <th>Yes</th>\n",
       "      <td>91.0</td>\n",
       "      <td>7.538462</td>\n",
       "      <td>0.860332</td>\n",
       "      <td>7.0</td>\n",
       "      <td>7.0</td>\n",
       "      <td>7.0</td>\n",
       "      <td>8.0</td>\n",
       "      <td>10.0</td>\n",
       "      <td>91.0</td>\n",
       "      <td>34.439560</td>\n",
       "      <td>10.214596</td>\n",
       "      <td>27.0</td>\n",
       "      <td>31.0</td>\n",
       "      <td>32.0</td>\n",
       "      <td>34.0</td>\n",
       "      <td>106.0</td>\n",
       "    </tr>\n",
       "  </tbody>\n",
       "</table>\n",
       "</div>"
      ],
      "text/plain": [
       "              greenhouse_gas_score                                         \\\n",
       "                             count       mean       std   min   25%   50%   \n",
       "year smartway                                                               \n",
       "2008 no                      607.0   4.149918  1.629634   0.0   3.0   5.0   \n",
       "     yes                     380.0   6.868421  0.827338   6.0   6.0   7.0   \n",
       "2018 Elite                    17.0  10.000000  0.000000  10.0  10.0  10.0   \n",
       "     No                      724.0   4.276243  1.256106   1.0   3.0   4.0   \n",
       "     Yes                      91.0   7.538462  0.860332   7.0   7.0   7.0   \n",
       "\n",
       "                          cmb_mpg                                          \\\n",
       "                75%   max   count       mean        std   min   25%   50%   \n",
       "year smartway                                                               \n",
       "2008 no         5.0   7.0   607.0  17.316310   2.766868  10.0  15.0  18.0   \n",
       "     yes        7.0  10.0   380.0  23.736842   3.060379  20.0  22.0  23.0   \n",
       "2018 Elite     10.0  10.0    17.0  53.000000  24.065016  26.0  29.0  46.0   \n",
       "     No         5.0  10.0   724.0  22.041436   4.424682  10.0  19.0  22.0   \n",
       "     Yes        8.0  10.0    91.0  34.439560  10.214596  27.0  31.0  32.0   \n",
       "\n",
       "                            \n",
       "                75%    max  \n",
       "year smartway               \n",
       "2008 no        19.0   23.0  \n",
       "     yes       25.0   46.0  \n",
       "2018 Elite     67.0  106.0  \n",
       "     No        25.0   60.0  \n",
       "     Yes       34.0  106.0  "
      ]
     },
     "execution_count": 15,
     "metadata": {},
     "output_type": "execute_result"
    }
   ],
   "source": [
    "smart = all_data.groupby(['year', 'smartway'])['greenhouse_gas_score','cmb_mpg']\n",
    "smart.describe()"
   ]
  },
  {
   "cell_type": "code",
   "execution_count": 16,
   "metadata": {},
   "outputs": [
    {
     "data": {
      "image/png": "[encoded data removed]",
      "text/plain": [
       "<matplotlib.figure.Figure at 0x7f383cd41d30>"
      ]
     },
     "metadata": {
      "needs_background": "light"
     },
     "output_type": "display_data"
    },
    {
     "data": {
      "image/png": "[encoded data removed]",
      "text/plain": [
       "<matplotlib.figure.Figure at 0x7f383cc9eb00>"
      ]
     },
     "metadata": {
      "needs_background": "light"
     },
     "output_type": "display_data"
    },
    {
     "data": {
      "image/png": "[encoded data removed]",
      "text/plain": [
       "<matplotlib.figure.Figure at 0x7f383ccbf5c0>"
      ]
     },
     "metadata": {
      "needs_background": "light"
     },
     "output_type": "display_data"
    },
    {
     "data": {
      "image/png": "[encoded data removed]",
      "text/plain": [
       "<matplotlib.figure.Figure at 0x7f383cbdce48>"
      ]
     },
     "metadata": {
      "needs_background": "light"
     },
     "output_type": "display_data"
    },
    {
     "data": {
      "image/png": "[encoded data removed]",
      "text/plain": [
       "<matplotlib.figure.Figure at 0x7f383cbb0588>"
      ]
     },
     "metadata": {
      "needs_background": "light"
     },
     "output_type": "display_data"
    }
   ],
   "source": [
    "smart.plot(kind='scatter',x=\"greenhouse_gas_score\", y=\"cmb_mpg\", figsize=(8,8));"
   ]
  },
  {
   "cell_type": "code",
   "execution_count": null,
   "metadata": {},
   "outputs": [],
   "source": []
  },
  {
   "cell_type": "code",
   "execution_count": null,
   "metadata": {},
   "outputs": [],
   "source": []
  },
  {
   "cell_type": "markdown",
   "metadata": {},
   "source": [
    "### Q4: What features are associated with better fuel economy?"
   ]
  },
  {
   "cell_type": "code",
   "execution_count": 29,
   "metadata": {},
   "outputs": [
    {
     "data": {
      "image/png": "[encoded data removed]",
      "text/plain": [
       "<matplotlib.figure.Figure at 0x7f383997c7f0>"
      ]
     },
     "metadata": {
      "needs_background": "light"
     },
     "output_type": "display_data"
    }
   ],
   "source": [
    "fuel= all_data\n",
    "pd.plotting.scatter_matrix(fuel[['cmb_mpg','cyl','displ','greenhouse_gas_score']],figsize=(8,8));"
   ]
  },
  {
   "cell_type": "code",
   "execution_count": null,
   "metadata": {},
   "outputs": [],
   "source": []
  }
 ],
 "metadata": {
  "kernelspec": {
   "display_name": "Python 3",
   "language": "python",
   "name": "python3"
  },
  "language_info": {
   "codemirror_mode": {
    "name": "ipython",
    "version": 3
   },
   "file_extension": ".py",
   "mimetype": "text/x-python",
   "name": "python",
   "nbconvert_exporter": "python",
   "pygments_lexer": "ipython3",
   "version": "3.6.3"
  }
 },
 "nbformat": 4,
 "nbformat_minor": 2
}
